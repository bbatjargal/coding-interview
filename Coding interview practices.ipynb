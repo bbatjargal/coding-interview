{
 "cells": [
  {
   "cell_type": "markdown",
   "metadata": {},
   "source": [
    "### 1. Sliding window."
   ]
  },
  {
   "cell_type": "markdown",
   "metadata": {},
   "source": [
    "Given an array, find the average of all contiguous subarrays of size 'K' in it.\n",
    "Array: [1,3,2,6,-1,4,1,8,2], k = 5"
   ]
  },
  {
   "cell_type": "code",
   "execution_count": 3,
   "metadata": {},
   "outputs": [],
   "source": [
    "def find_averages_of_subarrays(k, arr):\n",
    "    result = []\n",
    "    windowSum, windowStart = 0.0, 0\n",
    "    for windowEnd in range(len(arr)):\n",
    "        windowSum += arr[windowEnd] # add the next element\n",
    "        if windowEnd >= k - 1: # slide the window, we don't need to slide if we've not hit the required window size of 'k'\n",
    "            result.append(windowSum / K) # calculate the average\n",
    "            windowSum -= arr[windowStart] # subtract the element going out.\n",
    "            windowStart += 1 # slide the window ahead\n",
    "    return result"
   ]
  },
  {
   "cell_type": "markdown",
   "metadata": {},
   "source": [
    "### 2. Two Pointer"
   ]
  },
  {
   "cell_type": "markdown",
   "metadata": {},
   "source": [
    "Given an array of unsorted numbers, find all unique triplets in it that add up to zero.\n",
    "\n",
    "input: [-3, 0, 1, 2, -1, 1, -2] \n",
    "\n",
    "output: [-3,1,2], [-2,0,2], [-2,1,1], [-1,0,1]"
   ]
  },
  {
   "cell_type": "code",
   "execution_count": 5,
   "metadata": {},
   "outputs": [],
   "source": [
    "def search_triplets(arr):\n",
    "    arr.sort()\n",
    "    triplets = []\n",
    "    for i in range(len(arr)):\n",
    "        if i > 0 and arr[i] == arr[i-1]: # skip same elements to avoid duplicate triplets\n",
    "            continue\n",
    "        search_pair(arr, -arr[i], i+1, triplets)\n",
    "    return triplets\n",
    "\n",
    "def search_pair(arr, target_sum, left, triplet):\n",
    "    right = len(arr) - 1\n",
    "    while left < right:\n",
    "        current_sum = arr[left] + arr[right]\n",
    "        if current_sum == target_sum: # found the triplet\n",
    "            triplets.append([-target_sum, arr[left], arr[right]])\n",
    "            left += 1\n",
    "            right -= 1\n",
    "            while left < right and arr[left] == arr[left - 1]:\n",
    "                left += 1 # skip the same element to avoid duplicate triplets\n",
    "            while left < right and arr[right] == arr[right + 1]:\n",
    "                right -= 1 # skip the same element to avoid duplicate triplets\n",
    "        elif target_sum > current_sum:\n",
    "            left += 1 # we need a pair with a bigger sum\n",
    "        else:\n",
    "            right -= 1 # we need a pair with a smaller sum"
   ]
  },
  {
   "cell_type": "markdown",
   "metadata": {},
   "source": [
    "### 3. Fast and Slow pointers"
   ]
  },
  {
   "cell_type": "markdown",
   "metadata": {},
   "source": [
    "Given the head of a Singly LinkedList that contains a cycle, write a function to find the starting node of the cycle.\n",
    "\n",
    "head ----  cycle start\n",
    "\n",
    "1 -> 2 -> 3 -> 4 -> 5 -> 6\n",
    "\n",
    "        ^          |\n",
    "        |__________|"
   ]
  },
  {
   "cell_type": "code",
   "execution_count": 6,
   "metadata": {},
   "outputs": [],
   "source": [
    "class Node:\n",
    "    def __init__(self, value, next=None):\n",
    "        self.value = value\n",
    "        self.next = next\n",
    "        \n",
    "    def print_list(self):\n",
    "        temp = self\n",
    "        while temp is not None:\n",
    "            print(temp.value, end='')\n",
    "            temp = temp.next\n",
    "        print()\n",
    "        \n",
    "def find_cycle_start(head):\n",
    "    cycle_length = 0\n",
    "    # find the linkedList cycle\n",
    "    slow, fast = head, head\n",
    "    while fast and fast.next:\n",
    "        fast = fast.next.next\n",
    "        slow = slow.next\n",
    "        if slow == fast: # found the cycle\n",
    "            cycle_length = calculate_cycle_length(slow)\n",
    "            break\n",
    "    return find_start(head, cycle_length)\n",
    "\n",
    "\n",
    "def calculate_cycle_length(slow):\n",
    "    current = slow\n",
    "    cycle_length = 0\n",
    "    while True:\n",
    "        current = current.next\n",
    "        cycle_length += 1\n",
    "        if current == slow:\n",
    "            break\n",
    "    return cycle_length\n",
    "\n",
    "def find_start(head, cycle_length):\n",
    "    pointer1 = head\n",
    "    pointer2 = head\n",
    "    \n",
    "    # move pointer2 ahead 'cycle_length' nodes\n",
    "    while cycle_length > 0:\n",
    "        pointer2 = pointer2.next\n",
    "        cycle_length -= 1\n",
    "        \n",
    "    # increment both pointers until they meet at the start of the cycle\n",
    "    while pointer1 != pointer2:\n",
    "        pointer1 = pointer1.next\n",
    "        pointer2 = pointer2.next\n",
    "        \n",
    "    return pointer1\n",
    "\n"
   ]
  },
  {
   "cell_type": "markdown",
   "metadata": {},
   "source": [
    "### 4. Merge intervals "
   ]
  },
  {
   "cell_type": "markdown",
   "metadata": {},
   "source": [
    "Given a list of intervals, merge all the overlapping intervals to produce a list that has only mutually exclusive intervals.\n",
    "\n",
    "intervals: [[1,4], [2,5], [7, 9]]\n",
    "\n",
    "output: [[1,5], [7,9]]\n",
    "\n"
   ]
  },
  {
   "cell_type": "code",
   "execution_count": 7,
   "metadata": {},
   "outputs": [],
   "source": [
    "class interval:\n",
    "    def __init__(self, start, end):\n",
    "        self.start = start\n",
    "        self.end = end\n",
    "        \n",
    "    def print_interval(self):\n",
    "        print(\"[\" + str(self.start) + \", \" + str(self.end) + \"]\", end=\"\")\n",
    "        \n",
    "def merge(intervals):\n",
    "    if len(intervals) < 2:\n",
    "        return intervals\n",
    "    \n",
    "    # sort the intervals on the start time\n",
    "    intervals.sort(key = lambda x: x.start)\n",
    "    \n",
    "    mergedIntervals = []\n",
    "    start = intervals[0].start\n",
    "    end = intervals[0].end\n",
    "    \n",
    "    for i in range(1, len(intervals)):\n",
    "        interval = intervals[i]\n",
    "        if interval.start <= end: # overlapping intervals, adjust the 'end'\n",
    "            end = max(interval.end, end)\n",
    "        else: # non-overlapping interval, add the previous interval and reset\n",
    "            mergedIntervals.append(interval(start, end))\n",
    "            start = interval.start\n",
    "            end = interval.end\n",
    "    \n",
    "    # add the last interval\n",
    "    mergedIntervals.append(interval(start, end))\n",
    "    return mergedIntervals           \n",
    "            "
   ]
  },
  {
   "cell_type": "markdown",
   "metadata": {},
   "source": [
    "### 5. Cyclic sort"
   ]
  },
  {
   "cell_type": "markdown",
   "metadata": {},
   "source": [
    "Given an array containing 'n' objects. Each object, when created, was assigned a unique number from 1 to 'n' based on their creation sequence.\n",
    "\n",
    "Write a function to sort the objects in-place on their creation sequence number in O(n) and without any extra space.\n",
    "\n",
    "Input: [3, 1, 5, 4, 2]\n",
    "\n",
    "output: [1, 2, 3, 4, 5]\n",
    "\n"
   ]
  },
  {
   "cell_type": "code",
   "execution_count": 9,
   "metadata": {},
   "outputs": [],
   "source": [
    "def cyclic_sort(nums):\n",
    "    i = 0\n",
    "    while i < len(nums):\n",
    "        i = nums[i] - 1\n",
    "        if i != j: # nums[i] != nums[i]\n",
    "            nums[j], nums[i] = nums[i], nums[j]\n",
    "        else:\n",
    "            i += 1\n",
    "    return nums\n"
   ]
  },
  {
   "cell_type": "markdown",
   "metadata": {},
   "source": [
    "### 6. In-place Reversal of a linkedList"
   ]
  },
  {
   "cell_type": "markdown",
   "metadata": {},
   "source": [
    "Given the head of a Singly linkedList, reverse the Linkedlist. Write a function to return the new head of the reversed LinkedList. \n",
    "\n",
    "Write a function to return the new head of the reversal LinkedList.\n",
    "\n",
    "Original List: 2 -> 4 -> 6 -> 8 -> 10 -> null\n",
    "\n",
    "Reversed List: 10 -> 8 -> 6 -> 4 -> 2 -> null\n",
    "\n"
   ]
  },
  {
   "cell_type": "code",
   "execution_count": null,
   "metadata": {},
   "outputs": [],
   "source": [
    "class Node:\n",
    "    def __init__(self, value, next=None):\n",
    "        self.value = value\n",
    "        self.next = next\n",
    "        \n",
    "    def print_list(self):\n",
    "        temp = self\n",
    "        while temp is not None:\n",
    "            print(temp.value, end = \" \")\n",
    "            temp = temp.next\n",
    "        print()\n",
    "        \n",
    "def reverse(head):\n",
    "    previous, current, next = None, head, None\n",
    "    while current is not None:\n",
    "        temp = current.next # temporarily store the next node\n",
    "        current.next = previous # reverse the current node\n",
    "        previous = current # before we move to the next value, point previous to the current node\n",
    "        current = temp # move on the next node\n",
    "    return previous\n"
   ]
  },
  {
   "cell_type": "markdown",
   "metadata": {},
   "source": [
    "### 7. Tree Breadth First Search"
   ]
  },
  {
   "cell_type": "markdown",
   "metadata": {},
   "source": [
    "Given a binary tree, populate an array to represent its level by level traversal.\n",
    "\n",
    "level order traversal: [[1], [2,3], [4,5,6,7]]\n",
    "\n",
    "                  1                  \n",
    "                /   \\                \n",
    "               2     3               \n",
    "              / \\   / \\              \n",
    "            4   5   6  7"
   ]
  },
  {
   "cell_type": "code",
   "execution_count": 13,
   "metadata": {},
   "outputs": [],
   "source": [
    "class TreeNode:\n",
    "    def __init__(self, val):\n",
    "        self.val = val\n",
    "        self.left, self.right = None, None\n",
    "        \n",
    "def traversa(root):\n",
    "    result = []\n",
    "    if root is None:\n",
    "        return result\n",
    "    \n",
    "    queue = deque()\n",
    "    queue.append(root)\n",
    "    while queue:\n",
    "        levelSize = len(queue)\n",
    "        currentlevel = []\n",
    "        for _ in range(levelSize):\n",
    "            currentNode = queue.popleft()\n",
    "            # add the node to the current level\n",
    "            currentLevel.append(currentNode.val)\n",
    "            # insert the children of current node in the queue\n",
    "            if currentNode.left:\n",
    "                queue.append(currentNode.left)\n",
    "            if currentNode.right:\n",
    "                queue.append(currentNode.right)\n",
    "        result.append(currentLevel)\n",
    "    return result\n",
    "        "
   ]
  },
  {
   "cell_type": "code",
   "execution_count": null,
   "metadata": {},
   "outputs": [],
   "source": []
  }
 ],
 "metadata": {
  "kernelspec": {
   "display_name": "Python 3",
   "language": "python",
   "name": "python3"
  },
  "language_info": {
   "codemirror_mode": {
    "name": "ipython",
    "version": 3
   },
   "file_extension": ".py",
   "mimetype": "text/x-python",
   "name": "python",
   "nbconvert_exporter": "python",
   "pygments_lexer": "ipython3",
   "version": "3.7.6"
  }
 },
 "nbformat": 4,
 "nbformat_minor": 4
}
